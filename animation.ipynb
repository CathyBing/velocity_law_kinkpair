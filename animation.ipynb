{
 "cells": [
  {
   "cell_type": "code",
   "execution_count": 1,
   "id": "148bf9b6-62c0-4562-87a0-db215eb9f14a",
   "metadata": {},
   "outputs": [],
   "source": [
    "import numpy as np\n",
    "import math\n",
    "import matplotlib.pyplot as plt\n",
    "import matplotlib.colors as mcolors\n",
    "%matplotlib widget\n",
    "from scipy import ndimage\n",
    "from scipy.stats import poisson\n",
    "import os\n",
    "import imageio\n",
    "import damask\n",
    "from PIL import Image"
   ]
  },
  {
   "cell_type": "code",
   "execution_count": 2,
   "id": "7bc1a273-8b4d-4dcc-a492-90345d151bb7",
   "metadata": {},
   "outputs": [],
   "source": [
    "def plot(plane, nu_k, J_pos, J_neg, l, count):\n",
    "    fig = plt.figure(figsize=(4,4))\n",
    "    ax = fig.add_subplot(1, 1, 1)\n",
    "    slipped_area = ax.imshow(plane,cmap='Grays')\n",
    "    plt.xlim([-0.5,l-0.5])\n",
    "    plt.ylim([-0.5,l-0.5])\n",
    "    ax.set_xticks([])\n",
    "    ax.set_yticks([])\n",
    "    ax.spines['top']   .set_visible(False)\n",
    "    ax.spines['bottom'].set_visible(False)\n",
    "    ax.spines['right'] .set_visible(False)\n",
    "    ax.spines['left']  .set_visible(False)\n",
    "    plt.savefig(f'GIF/{nu_k}_{J_pos}_{J_neg}_{l}/{count}.png')\n",
    "    plt.close()"
   ]
  },
  {
   "cell_type": "code",
   "execution_count": 3,
   "id": "6c04b7c4-d759-4396-8938-5edd7baaa5a7",
   "metadata": {},
   "outputs": [],
   "source": [
    "def plot_pixel(plane, nu_k, J_pos, J_neg, l, count):\n",
    "    filename = f'GIF/{nu_k}_{J_pos}_{J_neg}_{l}/{count}.png'\n",
    "    MAX = plane.max()\n",
    "    MIN = plane[plane>0].min()\n",
    "    grayscale = np.linspace(0,0.8,num=MAX-MIN+1,endpoint=False)\n",
    "    cmap = damask.Colormap(np.tile(grayscale, (3,1)).T,'name')\n",
    "    cmap.shade(np.flipud(plane),bounds=[MIN,MAX],gap=0).save(filename)\n",
    "    img = Image.open(filename)\n",
    "    img.resize((500,500), Image.NEAREST).save(filename)"
   ]
  },
  {
   "cell_type": "code",
   "execution_count": null,
   "id": "7bbf69a4-fb5b-4769-91ed-1a2f9ff84e50",
   "metadata": {},
   "outputs": [],
   "source": [
    "def glide_plot(nu_k  =    1 ,   #lateral expansion speed normalized by kink-pair width, per second\n",
    "               J_pos =    1.,   #nucleate rate of positive kink pairs on the whole dislocation line, per second\n",
    "               J_neg =    1.,   #nucleate rate of negative kink pairs on the whole dislocation line, per second, need to be smaller than J_pos\n",
    "               l     =   10 ,   #dislocation segment length normalized by kink-pair width, 1\n",
    "               MAX   =  100 ,   #max number of positive nucleation events before cut off, 1\n",
    "               tool  =  plot,   #plot tool\n",
    "              ):\n",
    "    #simulation time interval set as the time required for kink to move 1 unit when v_k is not zero, otherwise set as nucleation time\n",
    "    delta_t = 1./nu_k if nu_k != 0 else 1./J_pos\n",
    "\n",
    "    #initialization\n",
    "    plane     = np.zeros((l,l), dtype=int) #simulation window\n",
    "    plane_GIF = np.zeros((l,l), dtype=int)\n",
    "    plane[0:3]     = 1  #0, unslipped; >=1, slipped\n",
    "    plane_GIF[0:3] = 1\n",
    "    count=0\n",
    "    timestep = 0\n",
    "    Nkp_pos = 0 #number of positive kink pair nucleation events\n",
    "    os.system(f'mkdir GIF/{nu_k}_{J_pos}_{J_neg}_{l}')\n",
    "    os.system(f'rm GIF/{nu_k}_{J_pos}_{J_neg}_{l}/*png')\n",
    "    tool(plane_GIF, nu_k, J_pos, J_neg, l, count)\n",
    "    while Nkp_pos < MAX:\n",
    "        #time increment\n",
    "        timestep+=1\n",
    "\n",
    "        #lateral expansion\n",
    "        if np.any(plane != plane[:,[0]]): #otherwise, the dislocation is a straight line\n",
    "            plane = ndimage.binary_dilation(plane, structure=np.array([[0,0,0],[1,1,1],[0,0,0]],dtype=int)).astype(plane.dtype)\n",
    "            plane_GIF = plane_GIF + plane\n",
    "            count+=1\n",
    "            tool(plane_GIF, nu_k, J_pos, J_neg, l, count)\n",
    "\n",
    "        #kp nucleation\n",
    "        New_kp_pos = int(poisson.ppf(np.random.uniform(), J_pos*delta_t))\n",
    "        New_kp_neg = int(poisson.ppf(np.random.uniform(), J_neg*delta_t))\n",
    "        Nkp_pos += New_kp_pos\n",
    "        nuc_list = np.concatenate([np.ones(New_kp_pos,dtype=int), np.zeros(New_kp_neg,dtype=int)]) #all the nucleation events to happen in this time step\n",
    "        np.random.shuffle(nuc_list) #randomize the event sequence\n",
    "        for kp in nuc_list:\n",
    "            pos_L = np.random.randint(0,l) #generate a random position along the segment\n",
    "            pos_h = np.where(plane[:,pos_L]==(1-kp))[0][kp-1] #the opposite unit along that vertical line that's closest to the dislocation line\n",
    "            plane[pos_h,pos_L] = kp #new kpz\n",
    "            plane_GIF = plane_GIF + plane if kp==1 else plane_GIF * plane\n",
    "            count+=1\n",
    "            tool(plane_GIF, nu_k, J_pos, J_neg, l, count)\n",
    "\n",
    "    #GIF\n",
    "    film = []\n",
    "    for n in range(count):\n",
    "        film.append(imageio.v2.imread(f'GIF/{nu_k}_{J_pos}_{J_neg}_{l}/{n}.png'))\n",
    "    imageio.mimsave(f'GIF/{nu_k}_{J_pos}_{J_neg}_{l}/{nu_k}_{J_pos}_{J_neg}_{l}.gif', # output gif\n",
    "                    film,          # array of input frames\n",
    "                    #fps = 5,      # optional: frames per second\n",
    "                   )"
   ]
  },
  {
   "cell_type": "code",
   "execution_count": 165,
   "id": "92975f01-fcff-4a94-9d29-fd031a49bf84",
   "metadata": {},
   "outputs": [
    {
     "name": "stderr",
     "output_type": "stream",
     "text": [
      "mkdir: GIF/20_1_0.6_50: File exists\n"
     ]
    }
   ],
   "source": [
    "glide_plot(nu_k  =  20,\n",
    "           J_pos =  1,\n",
    "           J_neg =  0.6,\n",
    "           l     =  50,\n",
    "           MAX   =  10,\n",
    "           tool  = plot_pixel)"
   ]
  },
  {
   "cell_type": "code",
   "execution_count": null,
   "id": "94363908-53ea-4060-ba6f-9e52414b5640",
   "metadata": {},
   "outputs": [],
   "source": []
  },
  {
   "cell_type": "code",
   "execution_count": null,
   "id": "a7a46ee2-fd38-4a9c-8e25-a03d1843c50b",
   "metadata": {},
   "outputs": [],
   "source": []
  }
 ],
 "metadata": {
  "kernelspec": {
   "display_name": "Python 3",
   "language": "python",
   "name": "python3"
  },
  "language_info": {
   "codemirror_mode": {
    "name": "ipython",
    "version": 3
   },
   "file_extension": ".py",
   "mimetype": "text/x-python",
   "name": "python",
   "nbconvert_exporter": "python",
   "pygments_lexer": "ipython3",
   "version": "3.12.6"
  }
 },
 "nbformat": 4,
 "nbformat_minor": 5
}
